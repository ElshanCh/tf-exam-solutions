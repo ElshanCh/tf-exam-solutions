{
  "metadata": {
    "kernelspec": {
      "display_name": "Python 3",
      "name": "python3"
    },
    "language_info": {
      "name": "python",
      "version": "3.10.12",
      "mimetype": "text/x-python",
      "codemirror_mode": {
        "name": "ipython",
        "version": 3
      },
      "pygments_lexer": "ipython3",
      "nbconvert_exporter": "python",
      "file_extension": ".py"
    },
    "colab": {
      "provenance": [],
      "gpuType": "T4"
    },
    "accelerator": "GPU"
  },
  "nbformat_minor": 0,
  "nbformat": 4,
  "cells": [
    {
      "cell_type": "code",
      "source": [
        "# ===================================================================================================\n",
        "# PROBLEM B4\n",
        "#\n",
        "# Build and train a classifier for the BBC-text dataset.\n",
        "# This is a multiclass classification problem.\n",
        "# Do not use lambda layers in your model.\n",
        "#\n",
        "# The dataset used in this problem is originally published in: http://mlg.ucd.ie/datasets/bbc.html.\n",
        "#\n",
        "# Desired accuracy and validation_accuracy > 91%\n",
        "# ===================================================================================================\n",
        "\n",
        "from sklearn.model_selection import train_test_split\n",
        "from sklearn.preprocessing import LabelEncoder\n",
        "from tensorflow.keras.preprocessing.text import Tokenizer\n",
        "from tensorflow.keras.preprocessing.sequence import pad_sequences\n",
        "import tensorflow as tf\n",
        "import pandas as pd\n",
        "import numpy as np"
      ],
      "metadata": {
        "execution": {
          "iopub.status.busy": "2023-11-08T11:55:39.308858Z",
          "iopub.execute_input": "2023-11-08T11:55:39.309251Z",
          "iopub.status.idle": "2023-11-08T11:55:39.315129Z",
          "shell.execute_reply.started": "2023-11-08T11:55:39.309217Z",
          "shell.execute_reply": "2023-11-08T11:55:39.314171Z"
        },
        "trusted": true,
        "id": "EntpW7_FiGUS"
      },
      "execution_count": 10,
      "outputs": []
    },
    {
      "cell_type": "code",
      "source": [
        "df = pd.read_csv('https://github.com/dicodingacademy/assets/raw/main/Simulation/machine_learning/bbc-text.csv')\n",
        "\n",
        "labelencoder = LabelEncoder()\n",
        "df['category'] = labelencoder.fit_transform(df['category'])\n",
        "\n",
        "sentences = list(df['text'])\n",
        "labels = np.array(df['category'])"
      ],
      "metadata": {
        "execution": {
          "iopub.status.busy": "2023-11-08T11:57:32.234100Z",
          "iopub.execute_input": "2023-11-08T11:57:32.234558Z",
          "iopub.status.idle": "2023-11-08T11:57:32.539126Z",
          "shell.execute_reply.started": "2023-11-08T11:57:32.234518Z",
          "shell.execute_reply": "2023-11-08T11:57:32.538069Z"
        },
        "trusted": true,
        "id": "icaEqFA3iGUT"
      },
      "execution_count": 11,
      "outputs": []
    },
    {
      "cell_type": "code",
      "source": [
        "np.unique(labels)\n"
      ],
      "metadata": {
        "colab": {
          "base_uri": "https://localhost:8080/"
        },
        "id": "b6WzHVq7NsIM",
        "outputId": "4b1f8bea-1c0f-4a72-ad60-dff6e7ef172e"
      },
      "execution_count": 12,
      "outputs": [
        {
          "output_type": "execute_result",
          "data": {
            "text/plain": [
              "array([0, 1, 2, 3, 4])"
            ]
          },
          "metadata": {},
          "execution_count": 12
        }
      ]
    },
    {
      "cell_type": "code",
      "source": [
        "# DO NOT CHANGE THIS CODE\n",
        "# Make sure you used all of these parameters or you can not pass this test\n",
        "vocab_size = 1000\n",
        "embedding_dim = 16\n",
        "max_length = 300\n",
        "trunc_type = 'post'\n",
        "padding_type = 'post'\n",
        "oov_tok = \"<OOV>\"\n",
        "training_size = 1800"
      ],
      "metadata": {
        "execution": {
          "iopub.status.busy": "2023-11-08T12:05:19.413429Z",
          "iopub.execute_input": "2023-11-08T12:05:19.414328Z",
          "iopub.status.idle": "2023-11-08T12:05:19.419023Z",
          "shell.execute_reply.started": "2023-11-08T12:05:19.414293Z",
          "shell.execute_reply": "2023-11-08T12:05:19.417997Z"
        },
        "trusted": true,
        "id": "15O3JVIQiGUU"
      },
      "execution_count": 13,
      "outputs": []
    },
    {
      "cell_type": "code",
      "source": [
        "sentences_train = sentences[:1800]\n",
        "labels_train = labels[:1800]\n",
        "labels_train = np.array(labels_train)\n",
        "\n",
        "sentences_test = sentences[1800:]\n",
        "labels_test = labels[1800:]\n",
        "labels_test= np.array(labels_test) # MY CODE (SPLIT THE DATA INTO TRAIN AND TEST SETS)\n",
        "\n",
        "tokenizer = Tokenizer(num_words=vocab_size, oov_token=oov_tok)\n",
        "tokenizer.fit_on_texts(sentences_train)\n",
        "\n",
        "sequences_train = tokenizer.texts_to_sequences(sentences_train)\n",
        "padded_train = pad_sequences(sequences_train, padding='post', maxlen=max_length, truncating='post')\n",
        "\n",
        "sequences_test = tokenizer.texts_to_sequences(sentences_test)\n",
        "padded_test = pad_sequences(sequences_test,padding='post', maxlen=max_length, truncating='post') # MY CODE HERE Pre-processing part\n",
        "\n",
        "#Split your dataset and preprocess it."
      ],
      "metadata": {
        "_uuid": "8f2839f25d086af736a60e9eeb907d3b93b6e0e5",
        "_cell_guid": "b1076dfc-b9ad-4769-8c92-a6c4dae69d19",
        "id": "u1LWXbPXk8V6",
        "execution": {
          "iopub.status.busy": "2023-11-08T12:16:57.551164Z",
          "iopub.execute_input": "2023-11-08T12:16:57.552233Z",
          "iopub.status.idle": "2023-11-08T12:16:57.556534Z",
          "shell.execute_reply.started": "2023-11-08T12:16:57.552195Z",
          "shell.execute_reply": "2023-11-08T12:16:57.555404Z"
        },
        "trusted": true
      },
      "execution_count": 14,
      "outputs": []
    },
    {
      "cell_type": "code",
      "source": [
        "model = tf.keras.models.Sequential([\n",
        "    tf.keras.layers.Embedding(input_dim=vocab_size, output_dim=embedding_dim, input_length=max_length),\n",
        "    tf.keras.layers.Flatten(),\n",
        "    tf.keras.layers.Dense(32, activation='relu'),\n",
        "    tf.keras.layers.Dropout(0.2),\n",
        "    tf.keras.layers.Dense(32, activation='relu'),\n",
        "    tf.keras.layers.Dropout(0.2),\n",
        "    tf.keras.layers.Dense(5, activation='softmax')\n",
        "])\n",
        "\n",
        "model.compile(loss='sparse_categorical_crossentropy', optimizer='adam', metrics=['accuracy'])\n",
        "\n",
        "#Build and compile your model."
      ],
      "metadata": {
        "id": "-mqpZD-Ck8WB",
        "execution": {
          "iopub.status.busy": "2023-11-08T12:17:20.679931Z",
          "iopub.execute_input": "2023-11-08T12:17:20.680331Z",
          "iopub.status.idle": "2023-11-08T12:17:20.684702Z",
          "shell.execute_reply.started": "2023-11-08T12:17:20.680302Z",
          "shell.execute_reply": "2023-11-08T12:17:20.683692Z"
        },
        "trusted": true
      },
      "execution_count": 15,
      "outputs": []
    },
    {
      "cell_type": "code",
      "source": [
        "model.fit(padded_train, labels_train, validation_data=(padded_test, labels_test), epochs=10)\n",
        "#Train your model."
      ],
      "metadata": {
        "execution": {
          "iopub.status.busy": "2023-11-08T12:17:20.809865Z",
          "iopub.execute_input": "2023-11-08T12:17:20.810177Z",
          "iopub.status.idle": "2023-11-08T12:17:20.814218Z",
          "shell.execute_reply.started": "2023-11-08T12:17:20.810150Z",
          "shell.execute_reply": "2023-11-08T12:17:20.813210Z"
        },
        "trusted": true,
        "colab": {
          "base_uri": "https://localhost:8080/"
        },
        "id": "1Lb8Q3HdiGUU",
        "outputId": "1634f8e7-9386-4caf-8bb6-fa792bc530db"
      },
      "execution_count": 16,
      "outputs": [
        {
          "output_type": "stream",
          "name": "stdout",
          "text": [
            "Epoch 1/10\n",
            "57/57 [==============================] - 10s 98ms/step - loss: 1.5761 - accuracy: 0.2422 - val_loss: 1.5044 - val_accuracy: 0.3341\n",
            "Epoch 2/10\n",
            "57/57 [==============================] - 3s 54ms/step - loss: 1.3778 - accuracy: 0.4094 - val_loss: 1.1435 - val_accuracy: 0.5482\n",
            "Epoch 3/10\n",
            "57/57 [==============================] - 2s 31ms/step - loss: 0.8440 - accuracy: 0.7022 - val_loss: 0.6664 - val_accuracy: 0.7718\n",
            "Epoch 4/10\n",
            "57/57 [==============================] - 1s 25ms/step - loss: 0.3606 - accuracy: 0.8906 - val_loss: 0.4103 - val_accuracy: 0.8612\n",
            "Epoch 5/10\n",
            "57/57 [==============================] - 1s 16ms/step - loss: 0.1555 - accuracy: 0.9617 - val_loss: 0.3508 - val_accuracy: 0.8871\n",
            "Epoch 6/10\n",
            "57/57 [==============================] - 1s 10ms/step - loss: 0.0798 - accuracy: 0.9861 - val_loss: 0.3471 - val_accuracy: 0.8776\n",
            "Epoch 7/10\n",
            "57/57 [==============================] - 1s 11ms/step - loss: 0.0454 - accuracy: 0.9933 - val_loss: 0.3064 - val_accuracy: 0.9106\n",
            "Epoch 8/10\n",
            "57/57 [==============================] - 1s 13ms/step - loss: 0.0392 - accuracy: 0.9928 - val_loss: 0.2824 - val_accuracy: 0.9129\n",
            "Epoch 9/10\n",
            "57/57 [==============================] - 0s 7ms/step - loss: 0.0226 - accuracy: 0.9961 - val_loss: 0.2747 - val_accuracy: 0.9176\n",
            "Epoch 10/10\n",
            "57/57 [==============================] - 1s 11ms/step - loss: 0.0197 - accuracy: 0.9967 - val_loss: 0.2612 - val_accuracy: 0.9224\n"
          ]
        },
        {
          "output_type": "execute_result",
          "data": {
            "text/plain": [
              "<keras.src.callbacks.History at 0x7e5658119840>"
            ]
          },
          "metadata": {},
          "execution_count": 16
        }
      ]
    },
    {
      "cell_type": "code",
      "source": [],
      "metadata": {
        "id": "vdcqDY4tiGUU"
      },
      "execution_count": null,
      "outputs": []
    }
  ]
}
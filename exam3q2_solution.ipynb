{
  "metadata": {
    "kernelspec": {
      "display_name": "Python 3",
      "name": "python3"
    },
    "language_info": {
      "name": "python",
      "version": "3.10.12",
      "mimetype": "text/x-python",
      "codemirror_mode": {
        "name": "ipython",
        "version": 3
      },
      "pygments_lexer": "ipython3",
      "nbconvert_exporter": "python",
      "file_extension": ".py"
    },
    "colab": {
      "provenance": [],
      "gpuType": "T4"
    },
    "accelerator": "GPU"
  },
  "nbformat_minor": 0,
  "nbformat": 4,
  "cells": [
    {
      "cell_type": "code",
      "source": [
        "# ======================================================================\n",
        "# There are 5 questions in this exam with increasing difficulty from 1-5.\n",
        "# Please note that the weight of the grade for the question is relative\n",
        "# to its difficulty. So your Category 1 question will score significantly\n",
        "# less than your Category 5 question.\n",
        "#\n",
        "# Don't use lambda layers in your model.\n",
        "# You do not need them to solve the question.\n",
        "# Lambda layers are not supported by the grading infrastructure.\n",
        "#\n",
        "# You must use the Submit and Test button to submit your model\n",
        "# at least once in this category before you finally submit your exam,\n",
        "# otherwise you will score zero for this category.\n",
        "# ======================================================================\n",
        "#\n",
        "# Basic Datasets Question\n",
        "#\n",
        "# Create and train a classifier for the CIFAR-10 dataset.\n",
        "# Note that the test will expect it to classify 10 classes and that the\n",
        "# input shape should be the native size of the CIFAR-10 dataset which is\n",
        "# 32x32 monochrome. Do not resize the data. Your input layer should accept\n",
        "# (32, 32, 3) as the input shape only. If you amend this, the tests will fail.\n",
        "\n",
        "import tensorflow as tf"
      ],
      "metadata": {
        "_uuid": "8f2839f25d086af736a60e9eeb907d3b93b6e0e5",
        "_cell_guid": "b1076dfc-b9ad-4769-8c92-a6c4dae69d19",
        "execution": {
          "iopub.status.busy": "2023-11-08T10:00:40.442210Z",
          "iopub.execute_input": "2023-11-08T10:00:40.443103Z",
          "iopub.status.idle": "2023-11-08T10:00:40.448378Z",
          "shell.execute_reply.started": "2023-11-08T10:00:40.443071Z",
          "shell.execute_reply": "2023-11-08T10:00:40.447365Z"
        },
        "trusted": true,
        "id": "PNnly4K6fZ92"
      },
      "execution_count": 1,
      "outputs": []
    },
    {
      "cell_type": "code",
      "source": [
        "(x_train, y_train), (x_test, y_test) = tf.keras.datasets.cifar10.load_data()"
      ],
      "metadata": {
        "execution": {
          "iopub.status.busy": "2023-11-08T10:23:16.534078Z",
          "iopub.execute_input": "2023-11-08T10:23:16.534944Z",
          "iopub.status.idle": "2023-11-08T10:23:17.332428Z",
          "shell.execute_reply.started": "2023-11-08T10:23:16.534907Z",
          "shell.execute_reply": "2023-11-08T10:23:17.331552Z"
        },
        "trusted": true,
        "colab": {
          "base_uri": "https://localhost:8080/"
        },
        "id": "8eCvECi8fZ93",
        "outputId": "f03e3f4d-f7a4-4ae5-d1ae-280466ab77d3"
      },
      "execution_count": 2,
      "outputs": [
        {
          "output_type": "stream",
          "name": "stdout",
          "text": [
            "Downloading data from https://www.cs.toronto.edu/~kriz/cifar-10-python.tar.gz\n",
            "170498071/170498071 [==============================] - 4s 0us/step\n"
          ]
        }
      ]
    },
    {
      "cell_type": "code",
      "source": [
        "x_train, x_test = x_train / 255.0, x_test / 255.0 # pre-processing\n",
        "#MY CODE HERE"
      ],
      "metadata": {
        "execution": {
          "iopub.status.busy": "2023-11-08T10:23:24.308377Z",
          "iopub.execute_input": "2023-11-08T10:23:24.308773Z",
          "iopub.status.idle": "2023-11-08T10:23:24.313060Z",
          "shell.execute_reply.started": "2023-11-08T10:23:24.308743Z",
          "shell.execute_reply": "2023-11-08T10:23:24.312024Z"
        },
        "trusted": true,
        "id": "DI4MRPVdfZ94"
      },
      "execution_count": 3,
      "outputs": []
    },
    {
      "cell_type": "code",
      "source": [
        "model = tf.keras.models.Sequential([\n",
        "    tf.keras.layers.Conv2D(64, (3, 3) , activation = 'relu', input_shape=(32, 32, 3)),\n",
        "    tf.keras.layers.BatchNormalization(),\n",
        "    tf.keras.layers.Conv2D(64, (3, 3) , activation = 'relu'),\n",
        "    tf.keras.layers.BatchNormalization(),\n",
        "    tf.keras.layers.MaxPooling2D((2, 2)),\n",
        "    tf.keras.layers.Conv2D(128, (3, 3) , activation = 'relu', input_shape=(32, 32, 3)),\n",
        "    tf.keras.layers.BatchNormalization(),\n",
        "    tf.keras.layers.Conv2D(128, (3, 3) , activation = 'relu'),\n",
        "    tf.keras.layers.BatchNormalization(),\n",
        "    tf.keras.layers.MaxPooling2D((2, 2)),\n",
        "    tf.keras.layers.Flatten(),\n",
        "    tf.keras.layers.Dropout(0.2),\n",
        "    tf.keras.layers.Dense(512, activation='relu'),\n",
        "    tf.keras.layers.Dense(10, activation='softmax')\n",
        "])"
      ],
      "metadata": {
        "id": "GsvHKX2FfZ94"
      },
      "execution_count": 4,
      "outputs": []
    },
    {
      "cell_type": "code",
      "source": [
        "model.compile(loss='sparse_categorical_crossentropy', optimizer='adam', metrics=['accuracy'])"
      ],
      "metadata": {
        "id": "--8FD5XDjqEM"
      },
      "execution_count": 5,
      "outputs": []
    },
    {
      "cell_type": "code",
      "source": [
        "model.fit(x_train, y_train, validation_data=(x_test, y_test), epochs=20)"
      ],
      "metadata": {
        "colab": {
          "base_uri": "https://localhost:8080/"
        },
        "id": "y1wz47aEjqmM",
        "outputId": "16071eef-3465-411e-918d-45e4e73a9767"
      },
      "execution_count": 6,
      "outputs": [
        {
          "output_type": "stream",
          "name": "stdout",
          "text": [
            "Epoch 1/20\n",
            "1563/1563 [==============================] - 20s 8ms/step - loss: 1.2477 - accuracy: 0.5693 - val_loss: 1.6110 - val_accuracy: 0.4898\n",
            "Epoch 2/20\n",
            "1563/1563 [==============================] - 12s 8ms/step - loss: 0.8063 - accuracy: 0.7199 - val_loss: 0.8991 - val_accuracy: 0.6888\n",
            "Epoch 3/20\n",
            "1563/1563 [==============================] - 12s 8ms/step - loss: 0.6615 - accuracy: 0.7714 - val_loss: 0.8356 - val_accuracy: 0.7178\n",
            "Epoch 4/20\n",
            "1563/1563 [==============================] - 13s 8ms/step - loss: 0.5425 - accuracy: 0.8108 - val_loss: 1.1840 - val_accuracy: 0.6387\n",
            "Epoch 5/20\n",
            "1563/1563 [==============================] - 12s 8ms/step - loss: 0.4401 - accuracy: 0.8463 - val_loss: 0.8144 - val_accuracy: 0.7541\n",
            "Epoch 6/20\n",
            "1563/1563 [==============================] - 12s 8ms/step - loss: 0.3515 - accuracy: 0.8775 - val_loss: 0.8091 - val_accuracy: 0.7538\n",
            "Epoch 7/20\n",
            "1563/1563 [==============================] - 12s 8ms/step - loss: 0.2789 - accuracy: 0.9025 - val_loss: 0.8553 - val_accuracy: 0.7595\n",
            "Epoch 8/20\n",
            "1563/1563 [==============================] - 12s 8ms/step - loss: 0.2303 - accuracy: 0.9207 - val_loss: 1.0504 - val_accuracy: 0.7373\n",
            "Epoch 9/20\n",
            "1563/1563 [==============================] - 12s 8ms/step - loss: 0.1947 - accuracy: 0.9332 - val_loss: 0.8745 - val_accuracy: 0.7725\n",
            "Epoch 10/20\n",
            "1563/1563 [==============================] - 12s 8ms/step - loss: 0.1629 - accuracy: 0.9437 - val_loss: 1.2766 - val_accuracy: 0.7282\n",
            "Epoch 11/20\n",
            "1563/1563 [==============================] - 12s 8ms/step - loss: 0.1457 - accuracy: 0.9493 - val_loss: 1.0252 - val_accuracy: 0.7668\n",
            "Epoch 12/20\n",
            "1563/1563 [==============================] - 12s 8ms/step - loss: 0.1319 - accuracy: 0.9541 - val_loss: 0.9379 - val_accuracy: 0.7810\n",
            "Epoch 13/20\n",
            "1563/1563 [==============================] - 12s 8ms/step - loss: 0.1129 - accuracy: 0.9612 - val_loss: 0.9697 - val_accuracy: 0.7982\n",
            "Epoch 14/20\n",
            "1563/1563 [==============================] - 12s 8ms/step - loss: 0.1107 - accuracy: 0.9630 - val_loss: 1.0162 - val_accuracy: 0.7905\n",
            "Epoch 15/20\n",
            "1563/1563 [==============================] - 12s 8ms/step - loss: 0.0991 - accuracy: 0.9668 - val_loss: 1.0967 - val_accuracy: 0.7796\n",
            "Epoch 16/20\n",
            "1563/1563 [==============================] - 12s 8ms/step - loss: 0.0961 - accuracy: 0.9682 - val_loss: 1.0466 - val_accuracy: 0.7974\n",
            "Epoch 17/20\n",
            "1563/1563 [==============================] - 12s 8ms/step - loss: 0.0884 - accuracy: 0.9715 - val_loss: 1.0859 - val_accuracy: 0.7894\n",
            "Epoch 18/20\n",
            "1563/1563 [==============================] - 12s 8ms/step - loss: 0.0872 - accuracy: 0.9715 - val_loss: 1.0882 - val_accuracy: 0.7930\n",
            "Epoch 19/20\n",
            "1563/1563 [==============================] - 12s 8ms/step - loss: 0.0815 - accuracy: 0.9741 - val_loss: 1.0489 - val_accuracy: 0.7946\n",
            "Epoch 20/20\n",
            "1563/1563 [==============================] - 12s 8ms/step - loss: 0.0769 - accuracy: 0.9753 - val_loss: 1.1179 - val_accuracy: 0.7903\n"
          ]
        },
        {
          "output_type": "execute_result",
          "data": {
            "text/plain": [
              "<keras.src.callbacks.History at 0x7aa0744174f0>"
            ]
          },
          "metadata": {},
          "execution_count": 6
        }
      ]
    },
    {
      "cell_type": "code",
      "source": [
        "model.save('mymodel.h5')"
      ],
      "metadata": {
        "colab": {
          "base_uri": "https://localhost:8080/"
        },
        "id": "99PdUaHHsjUX",
        "outputId": "64dc0065-9eea-476c-f23c-caf795a1ce2e"
      },
      "execution_count": 7,
      "outputs": [
        {
          "output_type": "stream",
          "name": "stderr",
          "text": [
            "/usr/local/lib/python3.10/dist-packages/keras/src/engine/training.py:3103: UserWarning: You are saving your model as an HDF5 file via `model.save()`. This file format is considered legacy. We recommend using instead the native Keras format, e.g. `model.save('my_model.keras')`.\n",
            "  saving_api.save_model(\n"
          ]
        }
      ]
    }
  ]
}
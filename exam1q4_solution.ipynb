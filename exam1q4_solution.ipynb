{
  "cells": [
    {
      "cell_type": "code",
      "execution_count": 1,
      "metadata": {
        "_cell_guid": "b1076dfc-b9ad-4769-8c92-a6c4dae69d19",
        "_uuid": "8f2839f25d086af736a60e9eeb907d3b93b6e0e5",
        "execution": {
          "iopub.execute_input": "2023-11-03T11:36:16.039173Z",
          "iopub.status.busy": "2023-11-03T11:36:16.038811Z",
          "iopub.status.idle": "2023-11-03T11:36:16.046300Z",
          "shell.execute_reply": "2023-11-03T11:36:16.045163Z",
          "shell.execute_reply.started": "2023-11-03T11:36:16.039145Z"
        },
        "trusted": true,
        "id": "W6qrnxp6tb8A"
      },
      "outputs": [],
      "source": [
        "# ======================================================================\n",
        "# There are 5 questions in this exam with increasing difficulty from 1-5.\n",
        "# Please note that the weight of the grade for the question is relative\n",
        "# to its difficulty. So your Category 1 question will score significantly\n",
        "# less than your Category 5 question.\n",
        "#\n",
        "# Don't use lambda layers in your model.\n",
        "# You do not need them to solve the question.\n",
        "# Lambda layers are not supported by the grading infrastructure.\n",
        "#\n",
        "# You must use the Submit and Test button to submit your model\n",
        "# at least once in this category before you finally submit your exam,\n",
        "# otherwise you will score zero for this category.\n",
        "# ======================================================================\n",
        "#\n",
        "# NLP QUESTION\n",
        "#\n",
        "# Build and train a classifier for the sarcasm dataset.\n",
        "# The classifier should have a final layer with 1 neuron activated by sigmoid as shown.\n",
        "# It will be tested against a number of sentences that the network hasn't previously seen\n",
        "# and you will be scored on whether sarcasm was correctly detected in those sentences.\n",
        "\n",
        "#Validation accuracy > 0.80 is desired\n",
        "\n",
        "import json\n",
        "import tensorflow as tf\n",
        "import numpy as np\n",
        "import urllib\n",
        "from tensorflow.keras.preprocessing.text import Tokenizer\n",
        "from tensorflow.keras.preprocessing.sequence import pad_sequences"
      ]
    },
    {
      "cell_type": "code",
      "execution_count": 2,
      "metadata": {
        "execution": {
          "iopub.execute_input": "2023-11-03T11:36:16.208217Z",
          "iopub.status.busy": "2023-11-03T11:36:16.207893Z",
          "iopub.status.idle": "2023-11-03T11:36:16.378295Z",
          "shell.execute_reply": "2023-11-03T11:36:16.377306Z",
          "shell.execute_reply.started": "2023-11-03T11:36:16.208189Z"
        },
        "trusted": true,
        "colab": {
          "base_uri": "https://localhost:8080/"
        },
        "id": "H8SUjLHYtb8C",
        "outputId": "884af12c-b5e8-494b-ff97-f8b776ba9b46"
      },
      "outputs": [
        {
          "output_type": "execute_result",
          "data": {
            "text/plain": [
              "('sarcasm.json', <http.client.HTTPMessage at 0x79596f78ca00>)"
            ]
          },
          "metadata": {},
          "execution_count": 2
        }
      ],
      "source": [
        "url = 'https://storage.googleapis.com/download.tensorflow.org/data/sarcasm.json'\n",
        "urllib.request.urlretrieve(url, 'sarcasm.json')"
      ]
    },
    {
      "cell_type": "code",
      "execution_count": 3,
      "metadata": {
        "execution": {
          "iopub.execute_input": "2023-11-03T11:36:16.380090Z",
          "iopub.status.busy": "2023-11-03T11:36:16.379799Z",
          "iopub.status.idle": "2023-11-03T11:36:16.385147Z",
          "shell.execute_reply": "2023-11-03T11:36:16.384060Z",
          "shell.execute_reply.started": "2023-11-03T11:36:16.380063Z"
        },
        "trusted": true,
        "id": "dmWQzYbitb8D"
      },
      "outputs": [],
      "source": [
        "# DO NOT CHANGE THIS CODE OR THE TESTS MAY NOT WORK\n",
        "vocab_size = 1000\n",
        "embedding_dim = 16\n",
        "max_length = 120\n",
        "trunc_type='post'\n",
        "padding_type='post'\n",
        "oov_tok = \"<OOV>\"\n",
        "training_size = 20000"
      ]
    },
    {
      "cell_type": "code",
      "execution_count": 5,
      "metadata": {
        "execution": {
          "iopub.execute_input": "2023-11-03T11:36:16.500820Z",
          "iopub.status.busy": "2023-11-03T11:36:16.500488Z",
          "iopub.status.idle": "2023-11-03T11:36:16.555546Z",
          "shell.execute_reply": "2023-11-03T11:36:16.554617Z",
          "shell.execute_reply.started": "2023-11-03T11:36:16.500792Z"
        },
        "trusted": true,
        "id": "2PCcypF6tb8D"
      },
      "outputs": [],
      "source": [
        "with open('sarcasm.json') as file:\n",
        "    data = json.load(file)\n",
        "\n",
        "sentences = []\n",
        "labels = []\n",
        "\n",
        "for item in data:\n",
        "    sentences.append(item['headline'])\n",
        "    labels.append(item['is_sarcastic']) # MY CODE\n",
        "\n",
        "sentences_train = sentences[:20000]\n",
        "labels_train = labels[:20000]\n",
        "labels_train = np.array(labels_train)\n",
        "\n",
        "sentences_test = sentences[20000:]\n",
        "labels_test = labels[20000:]\n",
        "labels_test= np.array(labels_test) # MY CODE (SPLIT THE DATA INTO TRAIN AND TEST SETS)\n",
        "\n",
        "#WRITE CODE TO APPEND THE SENTENCES AND LABELS TO CORRESPONDING LISTS\n",
        "\n",
        "#YOUR CODE HERE"
      ]
    },
    {
      "cell_type": "code",
      "execution_count": 6,
      "metadata": {
        "execution": {
          "iopub.execute_input": "2023-11-03T11:36:17.159083Z",
          "iopub.status.busy": "2023-11-03T11:36:17.158341Z",
          "iopub.status.idle": "2023-11-03T11:36:17.163140Z",
          "shell.execute_reply": "2023-11-03T11:36:17.162039Z",
          "shell.execute_reply.started": "2023-11-03T11:36:17.159049Z"
        },
        "trusted": true,
        "id": "wOB4htx9tb8E"
      },
      "outputs": [],
      "source": [
        "#WRITE CODE TO PREPROCESS YOUR DATA\n",
        "tokenizer = Tokenizer(num_words=vocab_size, oov_token=oov_tok)\n",
        "tokenizer.fit_on_texts(sentences_train)\n",
        "\n",
        "sequences_train = tokenizer.texts_to_sequences(sentences_train)\n",
        "padded_train = pad_sequences(sequences_train, padding='post', maxlen=max_length, truncating='post')\n",
        "\n",
        "sequences_test = tokenizer.texts_to_sequences(sentences_test)\n",
        "padded_test = pad_sequences(sequences_test,padding='post', maxlen=max_length, truncating='post')"
      ]
    },
    {
      "cell_type": "code",
      "execution_count": 7,
      "metadata": {
        "execution": {
          "iopub.execute_input": "2023-11-03T11:36:17.455877Z",
          "iopub.status.busy": "2023-11-03T11:36:17.455153Z",
          "iopub.status.idle": "2023-11-03T11:36:17.460109Z",
          "shell.execute_reply": "2023-11-03T11:36:17.458878Z",
          "shell.execute_reply.started": "2023-11-03T11:36:17.455844Z"
        },
        "trusted": true,
        "id": "ZX-Sveyztb8E"
      },
      "outputs": [],
      "source": [
        "#BUILD, COMPILE AND FIT THE MODEL\n",
        "model = tf.keras.models.Sequential([\n",
        "    tf.keras.layers.Embedding(input_dim=vocab_size, output_dim=embedding_dim, input_length=max_length),\n",
        "    tf.keras.layers.Flatten(),\n",
        "    tf.keras.layers.Dense(32, activation='relu'),\n",
        "    tf.keras.layers.Dropout(0.2),\n",
        "    tf.keras.layers.Dense(32, activation='relu'),\n",
        "    tf.keras.layers.Dropout(0.2),\n",
        "    tf.keras.layers.Dense(1, activation='sigmoid')\n",
        "])\n",
        "\n",
        "model.compile(loss='binary_crossentropy', optimizer='adam', metrics=['accuracy'])"
      ]
    },
    {
      "cell_type": "code",
      "execution_count": 8,
      "metadata": {
        "colab": {
          "base_uri": "https://localhost:8080/"
        },
        "id": "J4_wyEyMtb8E",
        "outputId": "331e3eed-6029-4a3c-e838-d051c20d3ed8"
      },
      "outputs": [
        {
          "output_type": "stream",
          "name": "stdout",
          "text": [
            "Epoch 1/10\n",
            "625/625 [==============================] - 20s 19ms/step - loss: 0.5069 - accuracy: 0.7308 - val_loss: 0.3778 - val_accuracy: 0.8283\n",
            "Epoch 2/10\n",
            "625/625 [==============================] - 4s 6ms/step - loss: 0.3395 - accuracy: 0.8500 - val_loss: 0.3701 - val_accuracy: 0.8289\n",
            "Epoch 3/10\n",
            "625/625 [==============================] - 3s 5ms/step - loss: 0.2949 - accuracy: 0.8748 - val_loss: 0.3733 - val_accuracy: 0.8283\n",
            "Epoch 4/10\n",
            "625/625 [==============================] - 3s 5ms/step - loss: 0.2667 - accuracy: 0.8893 - val_loss: 0.3891 - val_accuracy: 0.8235\n",
            "Epoch 5/10\n",
            "625/625 [==============================] - 4s 7ms/step - loss: 0.2358 - accuracy: 0.9047 - val_loss: 0.4275 - val_accuracy: 0.8179\n",
            "Epoch 6/10\n",
            "625/625 [==============================] - 3s 5ms/step - loss: 0.2079 - accuracy: 0.9186 - val_loss: 0.4565 - val_accuracy: 0.8150\n",
            "Epoch 7/10\n",
            "625/625 [==============================] - 3s 4ms/step - loss: 0.1813 - accuracy: 0.9281 - val_loss: 0.5166 - val_accuracy: 0.8103\n",
            "Epoch 8/10\n",
            "625/625 [==============================] - 3s 4ms/step - loss: 0.1594 - accuracy: 0.9373 - val_loss: 0.5460 - val_accuracy: 0.8037\n",
            "Epoch 9/10\n",
            "625/625 [==============================] - 3s 5ms/step - loss: 0.1423 - accuracy: 0.9430 - val_loss: 0.6400 - val_accuracy: 0.7994\n",
            "Epoch 10/10\n",
            "625/625 [==============================] - 4s 6ms/step - loss: 0.1243 - accuracy: 0.9514 - val_loss: 0.7103 - val_accuracy: 0.7958\n"
          ]
        },
        {
          "output_type": "execute_result",
          "data": {
            "text/plain": [
              "<keras.src.callbacks.History at 0x7958e00c6fb0>"
            ]
          },
          "metadata": {},
          "execution_count": 8
        }
      ],
      "source": [
        "model.fit(padded_train, labels_train, validation_data=(padded_test, labels_test), epochs=10)"
      ]
    }
  ],
  "metadata": {
    "kernelspec": {
      "display_name": "Python 3",
      "name": "python3"
    },
    "language_info": {
      "codemirror_mode": {
        "name": "ipython",
        "version": 3
      },
      "file_extension": ".py",
      "mimetype": "text/x-python",
      "name": "python",
      "nbconvert_exporter": "python",
      "pygments_lexer": "ipython3",
      "version": "3.10.12"
    },
    "colab": {
      "provenance": [],
      "gpuType": "T4"
    },
    "accelerator": "GPU"
  },
  "nbformat": 4,
  "nbformat_minor": 0
}
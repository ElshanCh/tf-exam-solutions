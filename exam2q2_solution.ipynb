{
  "metadata": {
    "kernelspec": {
      "display_name": "Python 3",
      "name": "python3"
    },
    "language_info": {
      "name": "python",
      "version": "3.10.12",
      "mimetype": "text/x-python",
      "codemirror_mode": {
        "name": "ipython",
        "version": 3
      },
      "pygments_lexer": "ipython3",
      "nbconvert_exporter": "python",
      "file_extension": ".py"
    },
    "colab": {
      "provenance": [],
      "gpuType": "T4"
    },
    "accelerator": "GPU"
  },
  "nbformat_minor": 0,
  "nbformat": 4,
  "cells": [
    {
      "cell_type": "code",
      "source": [
        "# Please note that the weight of the grade for the question is relative\n",
        "# to its difficulty. So your Category 1 question will score significantly\n",
        "# less than your Category 5 question.\n",
        "#\n",
        "# Don't use lambda layers in your model.\n",
        "# You do not need them to solve the question.\n",
        "# Lambda layers are not supported by the grading infrastructure.\n",
        "#\n",
        "# You must use the Submit and Test button to submit your model\n",
        "# at least once in this category before you finally submit your exam,\n",
        "# otherwise you will score zero for this category.\n",
        "# ======================================================================\n",
        "#\n",
        "# Basic Datasets Question\n",
        "#\n",
        "# Create and train a classifier for the MNIST dataset.\n",
        "# Note that the test will expect it to classify 10 classes and that the\n",
        "# input shape should be the native size of the MNIST dataset which is\n",
        "# 28x28 monochrome. Do not resize the data. Your input layer should accept\n",
        "# (28,28) as the input shape only. If you amend this, the tests will fail.\n",
        "#\n",
        "\n",
        "import tensorflow as tf"
      ],
      "metadata": {
        "_uuid": "8f2839f25d086af736a60e9eeb907d3b93b6e0e5",
        "_cell_guid": "b1076dfc-b9ad-4769-8c92-a6c4dae69d19",
        "execution": {
          "iopub.status.busy": "2023-11-05T21:30:04.224534Z",
          "iopub.execute_input": "2023-11-05T21:30:04.225338Z",
          "iopub.status.idle": "2023-11-05T21:30:04.230888Z",
          "shell.execute_reply.started": "2023-11-05T21:30:04.225304Z",
          "shell.execute_reply": "2023-11-05T21:30:04.229856Z"
        },
        "trusted": true,
        "id": "7MQoTskqzHXP"
      },
      "execution_count": 2,
      "outputs": []
    },
    {
      "cell_type": "code",
      "source": [
        "mnist = tf.keras.datasets.mnist\n",
        "# YOUR CODE HERE"
      ],
      "metadata": {
        "execution": {
          "iopub.status.busy": "2023-11-05T21:30:08.283431Z",
          "iopub.execute_input": "2023-11-05T21:30:08.284164Z",
          "iopub.status.idle": "2023-11-05T21:30:08.288329Z",
          "shell.execute_reply.started": "2023-11-05T21:30:08.284134Z",
          "shell.execute_reply": "2023-11-05T21:30:08.287289Z"
        },
        "trusted": true,
        "id": "PAcQKg6TzHXS"
      },
      "execution_count": null,
      "outputs": []
    },
    {
      "cell_type": "code",
      "source": [
        "(x_train,y_train),(x_test,y_test)=tf.keras.datasets.mnist.load_data()"
      ],
      "metadata": {
        "id": "vxLo07oLzHXT"
      },
      "execution_count": 4,
      "outputs": []
    },
    {
      "cell_type": "code",
      "source": [
        "x_train, x_test = x_train / 255.0, x_test / 255.0"
      ],
      "metadata": {
        "id": "VUbVPme50BEu"
      },
      "execution_count": 5,
      "outputs": []
    },
    {
      "cell_type": "code",
      "source": [
        "model = tf.keras.models.Sequential([\n",
        "    tf.keras.layers.Conv2D(32, (3, 3) , activation = 'relu', input_shape=(28, 28, 1)),\n",
        "    tf.keras.layers.MaxPooling2D((2, 2)),\n",
        "    tf.keras.layers.Flatten(),\n",
        "    tf.keras.layers.Dense(128, activation='relu'),\n",
        "    tf.keras.layers.Dense(10, activation='softmax')\n",
        "])"
      ],
      "metadata": {
        "id": "w4zWaDlx0EZp"
      },
      "execution_count": 6,
      "outputs": []
    },
    {
      "cell_type": "code",
      "source": [
        "model.compile(loss='sparse_categorical_crossentropy', optimizer='adam', metrics=['accuracy'])"
      ],
      "metadata": {
        "id": "6bbKcltq0I4P"
      },
      "execution_count": 7,
      "outputs": []
    },
    {
      "cell_type": "code",
      "source": [
        "model.fit(x_train, y_train, validation_data=(x_test, y_test), epochs=10)"
      ],
      "metadata": {
        "colab": {
          "base_uri": "https://localhost:8080/"
        },
        "id": "GjA2070l0MrX",
        "outputId": "c4d955ed-0a82-47ed-b6bb-4111f86d44b7"
      },
      "execution_count": 8,
      "outputs": [
        {
          "output_type": "stream",
          "name": "stdout",
          "text": [
            "Epoch 1/10\n",
            "1875/1875 [==============================] - 16s 4ms/step - loss: 0.1397 - accuracy: 0.9588 - val_loss: 0.0622 - val_accuracy: 0.9793\n",
            "Epoch 2/10\n",
            "1875/1875 [==============================] - 7s 4ms/step - loss: 0.0492 - accuracy: 0.9850 - val_loss: 0.0524 - val_accuracy: 0.9824\n",
            "Epoch 3/10\n",
            "1875/1875 [==============================] - 7s 3ms/step - loss: 0.0320 - accuracy: 0.9898 - val_loss: 0.0476 - val_accuracy: 0.9844\n",
            "Epoch 4/10\n",
            "1875/1875 [==============================] - 8s 4ms/step - loss: 0.0198 - accuracy: 0.9940 - val_loss: 0.0442 - val_accuracy: 0.9859\n",
            "Epoch 5/10\n",
            "1875/1875 [==============================] - 7s 4ms/step - loss: 0.0145 - accuracy: 0.9952 - val_loss: 0.0500 - val_accuracy: 0.9843\n",
            "Epoch 6/10\n",
            "1875/1875 [==============================] - 7s 4ms/step - loss: 0.0099 - accuracy: 0.9968 - val_loss: 0.0512 - val_accuracy: 0.9864\n",
            "Epoch 7/10\n",
            "1875/1875 [==============================] - 6s 3ms/step - loss: 0.0071 - accuracy: 0.9976 - val_loss: 0.0465 - val_accuracy: 0.9875\n",
            "Epoch 8/10\n",
            "1875/1875 [==============================] - 7s 4ms/step - loss: 0.0073 - accuracy: 0.9974 - val_loss: 0.0463 - val_accuracy: 0.9871\n",
            "Epoch 9/10\n",
            "1875/1875 [==============================] - 6s 3ms/step - loss: 0.0050 - accuracy: 0.9984 - val_loss: 0.0520 - val_accuracy: 0.9885\n",
            "Epoch 10/10\n",
            "1875/1875 [==============================] - 7s 4ms/step - loss: 0.0050 - accuracy: 0.9983 - val_loss: 0.0543 - val_accuracy: 0.9882\n"
          ]
        },
        {
          "output_type": "execute_result",
          "data": {
            "text/plain": [
              "<keras.src.callbacks.History at 0x7bac442ab250>"
            ]
          },
          "metadata": {},
          "execution_count": 8
        }
      ]
    }
  ]
}